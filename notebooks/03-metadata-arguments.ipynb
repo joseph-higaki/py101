{
 "cells": [
  {
   "cell_type": "code",
   "execution_count": 2,
   "metadata": {},
   "outputs": [],
   "source": [
    "import inspect"
   ]
  },
  {
   "cell_type": "code",
   "execution_count": 3,
   "metadata": {},
   "outputs": [
    {
     "name": "stdout",
     "output_type": "stream",
     "text": [
      "FullArgSpec(args=['a', 'b'], varargs=None, varkw='kwargs', defaults=None, kwonlyargs=[], kwonlydefaults=None, annotations={})\n",
      "1\n",
      "2\n"
     ]
    }
   ],
   "source": [
    "def see_args(fn):\n",
    "    \"\"\"\n",
    "    Add your code here or call it from here   \n",
    "    \"\"\"\n",
    "    #def wrapper(*args, **kwargs):        \n",
    "    def wrapper(*args, **kwargs):                \n",
    "        print(inspect.signature(fn))\n",
    "\n",
    "        result =  fn(*args, **kwargs)        \n",
    "        \n",
    "        #print(f'{fn.__name__}; args: {args}; kwargs: {kwargs}; execution time: {(end-start):0.2f} sec.')\n",
    "        \n",
    "        return result\n",
    "    return wrapper\n",
    "\n",
    "@see_args\n",
    "def foo(a, b, **kwargs):    \n",
    "    print(a)\n",
    "    print(b)\n",
    "\n",
    "foo(1,2,c=7)"
   ]
  }
 ],
 "metadata": {
  "kernelspec": {
   "display_name": "Python 3",
   "language": "python",
   "name": "python3"
  },
  "language_info": {
   "codemirror_mode": {
    "name": "ipython",
    "version": 3
   },
   "file_extension": ".py",
   "mimetype": "text/x-python",
   "name": "python",
   "nbconvert_exporter": "python",
   "pygments_lexer": "ipython3",
   "version": "3.12.3"
  }
 },
 "nbformat": 4,
 "nbformat_minor": 2
}
