{
 "cells": [
  {
   "cell_type": "markdown",
   "metadata": {},
   "source": [
    "# Namespaces"
   ]
  },
  {
   "cell_type": "code",
   "execution_count": 2,
   "metadata": {},
   "outputs": [],
   "source": [
    "def print_inspect(x):\n",
    "    print(f'print = {x}')    \n",
    "    print(f'print(dir()) = {dir(x)}')\n",
    "    print(f'print(id()) = {id(x)}')"
   ]
  },
  {
   "cell_type": "markdown",
   "metadata": {},
   "source": [
    "## Global"
   ]
  },
  {
   "cell_type": "code",
   "execution_count": 15,
   "metadata": {},
   "outputs": [
    {
     "name": "stdout",
     "output_type": "stream",
     "text": [
      "print = global\n",
      "print(dir()) = ['__add__', '__class__', '__contains__', '__delattr__', '__dir__', '__doc__', '__eq__', '__format__', '__ge__', '__getattribute__', '__getitem__', '__getnewargs__', '__getstate__', '__gt__', '__hash__', '__init__', '__init_subclass__', '__iter__', '__le__', '__len__', '__lt__', '__mod__', '__mul__', '__ne__', '__new__', '__reduce__', '__reduce_ex__', '__repr__', '__rmod__', '__rmul__', '__setattr__', '__sizeof__', '__str__', '__subclasshook__', 'capitalize', 'casefold', 'center', 'count', 'encode', 'endswith', 'expandtabs', 'find', 'format', 'format_map', 'index', 'isalnum', 'isalpha', 'isascii', 'isdecimal', 'isdigit', 'isidentifier', 'islower', 'isnumeric', 'isprintable', 'isspace', 'istitle', 'isupper', 'join', 'ljust', 'lower', 'lstrip', 'maketrans', 'partition', 'removeprefix', 'removesuffix', 'replace', 'rfind', 'rindex', 'rjust', 'rpartition', 'rsplit', 'rstrip', 'split', 'splitlines', 'startswith', 'strip', 'swapcase', 'title', 'translate', 'upper', 'zfill']\n",
      "print(id()) = 2284092186352\n",
      "a() execution\n",
      "print = global\n",
      "print(dir()) = ['__add__', '__class__', '__contains__', '__delattr__', '__dir__', '__doc__', '__eq__', '__format__', '__ge__', '__getattribute__', '__getitem__', '__getnewargs__', '__getstate__', '__gt__', '__hash__', '__init__', '__init_subclass__', '__iter__', '__le__', '__len__', '__lt__', '__mod__', '__mul__', '__ne__', '__new__', '__reduce__', '__reduce_ex__', '__repr__', '__rmod__', '__rmul__', '__setattr__', '__sizeof__', '__str__', '__subclasshook__', 'capitalize', 'casefold', 'center', 'count', 'encode', 'endswith', 'expandtabs', 'find', 'format', 'format_map', 'index', 'isalnum', 'isalpha', 'isascii', 'isdecimal', 'isdigit', 'isidentifier', 'islower', 'isnumeric', 'isprintable', 'isspace', 'istitle', 'isupper', 'join', 'ljust', 'lower', 'lstrip', 'maketrans', 'partition', 'removeprefix', 'removesuffix', 'replace', 'rfind', 'rindex', 'rjust', 'rpartition', 'rsplit', 'rstrip', 'split', 'splitlines', 'startswith', 'strip', 'swapcase', 'title', 'translate', 'upper', 'zfill']\n",
      "print(id()) = 2284092186352\n",
      "b() execution\n",
      "print = global\n",
      "print(dir()) = ['__add__', '__class__', '__contains__', '__delattr__', '__dir__', '__doc__', '__eq__', '__format__', '__ge__', '__getattribute__', '__getitem__', '__getnewargs__', '__getstate__', '__gt__', '__hash__', '__init__', '__init_subclass__', '__iter__', '__le__', '__len__', '__lt__', '__mod__', '__mul__', '__ne__', '__new__', '__reduce__', '__reduce_ex__', '__repr__', '__rmod__', '__rmul__', '__setattr__', '__sizeof__', '__str__', '__subclasshook__', 'capitalize', 'casefold', 'center', 'count', 'encode', 'endswith', 'expandtabs', 'find', 'format', 'format_map', 'index', 'isalnum', 'isalpha', 'isascii', 'isdecimal', 'isdigit', 'isidentifier', 'islower', 'isnumeric', 'isprintable', 'isspace', 'istitle', 'isupper', 'join', 'ljust', 'lower', 'lstrip', 'maketrans', 'partition', 'removeprefix', 'removesuffix', 'replace', 'rfind', 'rindex', 'rjust', 'rpartition', 'rsplit', 'rstrip', 'split', 'splitlines', 'startswith', 'strip', 'swapcase', 'title', 'translate', 'upper', 'zfill']\n",
      "print(id()) = 2284092186352\n"
     ]
    }
   ],
   "source": [
    "name = 'global'\n",
    "def a():\n",
    "    print('a() execution')        \n",
    "    print_inspect(name)\n",
    "    def b():\n",
    "        print('b() execution')\n",
    "        print_inspect(name)                \n",
    "\n",
    "    b() \n",
    "\n",
    "print_inspect(name)\n",
    "a()"
   ]
  },
  {
   "cell_type": "markdown",
   "metadata": {},
   "source": [
    "## Enclosing"
   ]
  },
  {
   "cell_type": "code",
   "execution_count": 16,
   "metadata": {},
   "outputs": [
    {
     "name": "stdout",
     "output_type": "stream",
     "text": [
      "print = global\n",
      "print(dir()) = ['__add__', '__class__', '__contains__', '__delattr__', '__dir__', '__doc__', '__eq__', '__format__', '__ge__', '__getattribute__', '__getitem__', '__getnewargs__', '__getstate__', '__gt__', '__hash__', '__init__', '__init_subclass__', '__iter__', '__le__', '__len__', '__lt__', '__mod__', '__mul__', '__ne__', '__new__', '__reduce__', '__reduce_ex__', '__repr__', '__rmod__', '__rmul__', '__setattr__', '__sizeof__', '__str__', '__subclasshook__', 'capitalize', 'casefold', 'center', 'count', 'encode', 'endswith', 'expandtabs', 'find', 'format', 'format_map', 'index', 'isalnum', 'isalpha', 'isascii', 'isdecimal', 'isdigit', 'isidentifier', 'islower', 'isnumeric', 'isprintable', 'isspace', 'istitle', 'isupper', 'join', 'ljust', 'lower', 'lstrip', 'maketrans', 'partition', 'removeprefix', 'removesuffix', 'replace', 'rfind', 'rindex', 'rjust', 'rpartition', 'rsplit', 'rstrip', 'split', 'splitlines', 'startswith', 'strip', 'swapcase', 'title', 'translate', 'upper', 'zfill']\n",
      "print(id()) = 2284092186352\n",
      "a() execution\n",
      "print = enclosing\n",
      "print(dir()) = ['__add__', '__class__', '__contains__', '__delattr__', '__dir__', '__doc__', '__eq__', '__format__', '__ge__', '__getattribute__', '__getitem__', '__getnewargs__', '__getstate__', '__gt__', '__hash__', '__init__', '__init_subclass__', '__iter__', '__le__', '__len__', '__lt__', '__mod__', '__mul__', '__ne__', '__new__', '__reduce__', '__reduce_ex__', '__repr__', '__rmod__', '__rmul__', '__setattr__', '__sizeof__', '__str__', '__subclasshook__', 'capitalize', 'casefold', 'center', 'count', 'encode', 'endswith', 'expandtabs', 'find', 'format', 'format_map', 'index', 'isalnum', 'isalpha', 'isascii', 'isdecimal', 'isdigit', 'isidentifier', 'islower', 'isnumeric', 'isprintable', 'isspace', 'istitle', 'isupper', 'join', 'ljust', 'lower', 'lstrip', 'maketrans', 'partition', 'removeprefix', 'removesuffix', 'replace', 'rfind', 'rindex', 'rjust', 'rpartition', 'rsplit', 'rstrip', 'split', 'splitlines', 'startswith', 'strip', 'swapcase', 'title', 'translate', 'upper', 'zfill']\n",
      "print(id()) = 2284190571248\n",
      "b() execution\n",
      "print = enclosing\n",
      "print(dir()) = ['__add__', '__class__', '__contains__', '__delattr__', '__dir__', '__doc__', '__eq__', '__format__', '__ge__', '__getattribute__', '__getitem__', '__getnewargs__', '__getstate__', '__gt__', '__hash__', '__init__', '__init_subclass__', '__iter__', '__le__', '__len__', '__lt__', '__mod__', '__mul__', '__ne__', '__new__', '__reduce__', '__reduce_ex__', '__repr__', '__rmod__', '__rmul__', '__setattr__', '__sizeof__', '__str__', '__subclasshook__', 'capitalize', 'casefold', 'center', 'count', 'encode', 'endswith', 'expandtabs', 'find', 'format', 'format_map', 'index', 'isalnum', 'isalpha', 'isascii', 'isdecimal', 'isdigit', 'isidentifier', 'islower', 'isnumeric', 'isprintable', 'isspace', 'istitle', 'isupper', 'join', 'ljust', 'lower', 'lstrip', 'maketrans', 'partition', 'removeprefix', 'removesuffix', 'replace', 'rfind', 'rindex', 'rjust', 'rpartition', 'rsplit', 'rstrip', 'split', 'splitlines', 'startswith', 'strip', 'swapcase', 'title', 'translate', 'upper', 'zfill']\n",
      "print(id()) = 2284190571248\n"
     ]
    }
   ],
   "source": [
    "name = 'global'\n",
    "def a():\n",
    "    print('a() execution')    \n",
    "    name = 'enclosing'\n",
    "    print_inspect(name)\n",
    "    def b():\n",
    "        print('b() execution')\n",
    "        print_inspect(name)                \n",
    "\n",
    "    b() \n",
    "\n",
    "print_inspect(name)\n",
    "a()"
   ]
  },
  {
   "cell_type": "markdown",
   "metadata": {},
   "source": [
    "## Local"
   ]
  },
  {
   "cell_type": "code",
   "execution_count": 17,
   "metadata": {},
   "outputs": [
    {
     "name": "stdout",
     "output_type": "stream",
     "text": [
      "print = global\n",
      "print(dir()) = ['__add__', '__class__', '__contains__', '__delattr__', '__dir__', '__doc__', '__eq__', '__format__', '__ge__', '__getattribute__', '__getitem__', '__getnewargs__', '__getstate__', '__gt__', '__hash__', '__init__', '__init_subclass__', '__iter__', '__le__', '__len__', '__lt__', '__mod__', '__mul__', '__ne__', '__new__', '__reduce__', '__reduce_ex__', '__repr__', '__rmod__', '__rmul__', '__setattr__', '__sizeof__', '__str__', '__subclasshook__', 'capitalize', 'casefold', 'center', 'count', 'encode', 'endswith', 'expandtabs', 'find', 'format', 'format_map', 'index', 'isalnum', 'isalpha', 'isascii', 'isdecimal', 'isdigit', 'isidentifier', 'islower', 'isnumeric', 'isprintable', 'isspace', 'istitle', 'isupper', 'join', 'ljust', 'lower', 'lstrip', 'maketrans', 'partition', 'removeprefix', 'removesuffix', 'replace', 'rfind', 'rindex', 'rjust', 'rpartition', 'rsplit', 'rstrip', 'split', 'splitlines', 'startswith', 'strip', 'swapcase', 'title', 'translate', 'upper', 'zfill']\n",
      "print(id()) = 2284092186352\n",
      "a() execution\n",
      "print = enclosing\n",
      "print(dir()) = ['__add__', '__class__', '__contains__', '__delattr__', '__dir__', '__doc__', '__eq__', '__format__', '__ge__', '__getattribute__', '__getitem__', '__getnewargs__', '__getstate__', '__gt__', '__hash__', '__init__', '__init_subclass__', '__iter__', '__le__', '__len__', '__lt__', '__mod__', '__mul__', '__ne__', '__new__', '__reduce__', '__reduce_ex__', '__repr__', '__rmod__', '__rmul__', '__setattr__', '__sizeof__', '__str__', '__subclasshook__', 'capitalize', 'casefold', 'center', 'count', 'encode', 'endswith', 'expandtabs', 'find', 'format', 'format_map', 'index', 'isalnum', 'isalpha', 'isascii', 'isdecimal', 'isdigit', 'isidentifier', 'islower', 'isnumeric', 'isprintable', 'isspace', 'istitle', 'isupper', 'join', 'ljust', 'lower', 'lstrip', 'maketrans', 'partition', 'removeprefix', 'removesuffix', 'replace', 'rfind', 'rindex', 'rjust', 'rpartition', 'rsplit', 'rstrip', 'split', 'splitlines', 'startswith', 'strip', 'swapcase', 'title', 'translate', 'upper', 'zfill']\n",
      "print(id()) = 2284190571248\n",
      "b() execution\n",
      "print = local\n",
      "print(dir()) = ['__add__', '__class__', '__contains__', '__delattr__', '__dir__', '__doc__', '__eq__', '__format__', '__ge__', '__getattribute__', '__getitem__', '__getnewargs__', '__getstate__', '__gt__', '__hash__', '__init__', '__init_subclass__', '__iter__', '__le__', '__len__', '__lt__', '__mod__', '__mul__', '__ne__', '__new__', '__reduce__', '__reduce_ex__', '__repr__', '__rmod__', '__rmul__', '__setattr__', '__sizeof__', '__str__', '__subclasshook__', 'capitalize', 'casefold', 'center', 'count', 'encode', 'endswith', 'expandtabs', 'find', 'format', 'format_map', 'index', 'isalnum', 'isalpha', 'isascii', 'isdecimal', 'isdigit', 'isidentifier', 'islower', 'isnumeric', 'isprintable', 'isspace', 'istitle', 'isupper', 'join', 'ljust', 'lower', 'lstrip', 'maketrans', 'partition', 'removeprefix', 'removesuffix', 'replace', 'rfind', 'rindex', 'rjust', 'rpartition', 'rsplit', 'rstrip', 'split', 'splitlines', 'startswith', 'strip', 'swapcase', 'title', 'translate', 'upper', 'zfill']\n",
      "print(id()) = 2284091676912\n"
     ]
    }
   ],
   "source": [
    "name = 'global'\n",
    "def a():\n",
    "    print('a() execution')    \n",
    "    name = 'enclosing'\n",
    "    print_inspect(name)\n",
    "    def b():\n",
    "        print('b() execution')\n",
    "        name = 'local'\n",
    "        print_inspect(name)                \n",
    "\n",
    "    b() \n",
    "\n",
    "print_inspect(name)\n",
    "a()"
   ]
  },
  {
   "cell_type": "markdown",
   "metadata": {},
   "source": [
    "# Scopes"
   ]
  },
  {
   "cell_type": "code",
   "execution_count": 18,
   "metadata": {},
   "outputs": [
    {
     "data": {
      "text/plain": [
       "{'__name__': '__main__',\n",
       " '__doc__': 'Automatically created module for IPython interactive environment',\n",
       " '__package__': None,\n",
       " '__loader__': None,\n",
       " '__spec__': None,\n",
       " '__builtin__': <module 'builtins' (built-in)>,\n",
       " '__builtins__': <module 'builtins' (built-in)>,\n",
       " '_ih': ['',\n",
       "  \"name = 'global'\\ng = 2\\nprint_inspect(g)\\ndef a():\\n    print('a() execution')\\n    print_inspect(name)\\n    def b():\\n        print('b() execution')\\n        print_inspect(name)                \\n\\n    b() \\n\\na()\",\n",
       "  \"def print_inspect(x):\\n    print(f'print = {x}')    \\n    print(f'print(dir()) = {dir(x)}')\\n    print(f'print(id()) = {id(x)}')\",\n",
       "  \"name = 'global'\\ng = 2\\nprint_inspect(g)\\ndef a():\\n    print('a() execution')\\n    print_inspect(name)\\n    def b():\\n        print('b() execution')\\n        print_inspect(name)                \\n\\n    b() \\n\\na()\",\n",
       "  \"name = 'global'\\ng = 2\\ndef a():\\n    print('a() execution')\\n    name - 'enclosing'\\n    print_inspect(name)\\n    def b():\\n        print('b() execution')\\n        print_inspect(name)                \\n\\n    b() \\n\\na()\",\n",
       "  \"name = 'global'\\ng = 2\\ndef a():\\n    print('a() execution')\\n    name = 'enclosing'\\n    print_inspect(name)\\n    def b():\\n        print('b() execution')\\n        print_inspect(name)                \\n\\n    b() \\n\\na()\",\n",
       "  \"name = 'global'\\ng = 2\\ndef a():\\n    print('a() execution')\\n    global name = 'enclosing'\\n    print_inspect(name)\\n    def b():\\n        print('b() execution')\\n        print_inspect(name)                \\n\\n    b() \\n\\na()\",\n",
       "  \"name = 'global'\\ng = 2\\ndef a():\\n    print('a() execution')\\n    global name \\n    name = 'enclosing'\\n    print_inspect(name)\\n    def b():\\n        print('b() execution')\\n        print_inspect(name)                \\n\\n    b() \\n\\na()\",\n",
       "  \"name = 'global'\\ng = 2\\ndef a():\\n    print('a() execution')\\n    global name = 'enclosing'\\n    print_inspect(name)\\n    def b():\\n        print('b() execution')\\n        print_inspect(name)                \\n\\n    b() \\n\\na()\",\n",
       "  \"name = 'global'\\ng = 2\\ndef a():\\n    print('a() execution')\\n    print_inspect(name)\\n    name = 'enclosing'\\n    print_inspect(name)\\n    def b():\\n        print('b() execution')\\n        print_inspect(name)                \\n\\n    b() \\n\\na()\",\n",
       "  \"name = 'global'\\ng = 2\\ndef a():\\n    print('a() execution')\\n    print_inspect(name)\\n    name = 'enclosing'\\n    print_inspect(name)\\n    def b():\\n        print('b() execution')\\n        print_inspect(name)                \\n\\n    b() \\n\\na()\",\n",
       "  \"name = 'global'\\ng = 2\\ndef a():\\n    print('a() execution')\\n    print_inspect(name)\\n    #name = 'enclosing'\\n    print_inspect(name)\\n    def b():\\n        print('b() execution')\\n        print_inspect(name)                \\n\\n    b() \\n\\na()\",\n",
       "  \"name = 'global'\\ng = 2\\ndef a():\\n    print('a() execution')    \\n    name = 'enclosing'\\n    print_inspect(name)\\n    def b():\\n        print('b() execution')\\n        print_inspect(name)                \\n\\n    b() \\n\\na()\",\n",
       "  \"name = 'global'\\ng = 2\\ndef a():\\n    print('a() execution')        \\n    print_inspect(name)\\n    def b():\\n        print('b() execution')\\n        print_inspect(name)                \\n\\n    b() \\n\\na()\",\n",
       "  \"name = 'global'\\ng = 2\\ndef a():\\n    print('a() execution')    \\n    name = 'enclosing'\\n    print_inspect(name)\\n    def b():\\n        print('b() execution')\\n        print_inspect(name)                \\n\\n    b() \\n\\na()\",\n",
       "  \"name = 'global'\\ndef a():\\n    print('a() execution')        \\n    print_inspect(name)\\n    def b():\\n        print('b() execution')\\n        print_inspect(name)                \\n\\n    b() \\n\\nprint_inspect(name)\\na()\",\n",
       "  \"name = 'global'\\ndef a():\\n    print('a() execution')    \\n    name = 'enclosing'\\n    print_inspect(name)\\n    def b():\\n        print('b() execution')\\n        print_inspect(name)                \\n\\n    b() \\n\\nprint_inspect(name)\\na()\",\n",
       "  \"name = 'global'\\ndef a():\\n    print('a() execution')    \\n    name = 'enclosing'\\n    print_inspect(name)\\n    def b():\\n        print('b() execution')\\n        name = 'local'\\n        print_inspect(name)                \\n\\n    b() \\n\\nprint_inspect(name)\\na()\",\n",
       "  'globals()'],\n",
       " '_oh': {},\n",
       " '_dh': [WindowsPath('c:/Users/Joseph_Higaki/projects/py101/notebooks')],\n",
       " 'In': ['',\n",
       "  \"name = 'global'\\ng = 2\\nprint_inspect(g)\\ndef a():\\n    print('a() execution')\\n    print_inspect(name)\\n    def b():\\n        print('b() execution')\\n        print_inspect(name)                \\n\\n    b() \\n\\na()\",\n",
       "  \"def print_inspect(x):\\n    print(f'print = {x}')    \\n    print(f'print(dir()) = {dir(x)}')\\n    print(f'print(id()) = {id(x)}')\",\n",
       "  \"name = 'global'\\ng = 2\\nprint_inspect(g)\\ndef a():\\n    print('a() execution')\\n    print_inspect(name)\\n    def b():\\n        print('b() execution')\\n        print_inspect(name)                \\n\\n    b() \\n\\na()\",\n",
       "  \"name = 'global'\\ng = 2\\ndef a():\\n    print('a() execution')\\n    name - 'enclosing'\\n    print_inspect(name)\\n    def b():\\n        print('b() execution')\\n        print_inspect(name)                \\n\\n    b() \\n\\na()\",\n",
       "  \"name = 'global'\\ng = 2\\ndef a():\\n    print('a() execution')\\n    name = 'enclosing'\\n    print_inspect(name)\\n    def b():\\n        print('b() execution')\\n        print_inspect(name)                \\n\\n    b() \\n\\na()\",\n",
       "  \"name = 'global'\\ng = 2\\ndef a():\\n    print('a() execution')\\n    global name = 'enclosing'\\n    print_inspect(name)\\n    def b():\\n        print('b() execution')\\n        print_inspect(name)                \\n\\n    b() \\n\\na()\",\n",
       "  \"name = 'global'\\ng = 2\\ndef a():\\n    print('a() execution')\\n    global name \\n    name = 'enclosing'\\n    print_inspect(name)\\n    def b():\\n        print('b() execution')\\n        print_inspect(name)                \\n\\n    b() \\n\\na()\",\n",
       "  \"name = 'global'\\ng = 2\\ndef a():\\n    print('a() execution')\\n    global name = 'enclosing'\\n    print_inspect(name)\\n    def b():\\n        print('b() execution')\\n        print_inspect(name)                \\n\\n    b() \\n\\na()\",\n",
       "  \"name = 'global'\\ng = 2\\ndef a():\\n    print('a() execution')\\n    print_inspect(name)\\n    name = 'enclosing'\\n    print_inspect(name)\\n    def b():\\n        print('b() execution')\\n        print_inspect(name)                \\n\\n    b() \\n\\na()\",\n",
       "  \"name = 'global'\\ng = 2\\ndef a():\\n    print('a() execution')\\n    print_inspect(name)\\n    name = 'enclosing'\\n    print_inspect(name)\\n    def b():\\n        print('b() execution')\\n        print_inspect(name)                \\n\\n    b() \\n\\na()\",\n",
       "  \"name = 'global'\\ng = 2\\ndef a():\\n    print('a() execution')\\n    print_inspect(name)\\n    #name = 'enclosing'\\n    print_inspect(name)\\n    def b():\\n        print('b() execution')\\n        print_inspect(name)                \\n\\n    b() \\n\\na()\",\n",
       "  \"name = 'global'\\ng = 2\\ndef a():\\n    print('a() execution')    \\n    name = 'enclosing'\\n    print_inspect(name)\\n    def b():\\n        print('b() execution')\\n        print_inspect(name)                \\n\\n    b() \\n\\na()\",\n",
       "  \"name = 'global'\\ng = 2\\ndef a():\\n    print('a() execution')        \\n    print_inspect(name)\\n    def b():\\n        print('b() execution')\\n        print_inspect(name)                \\n\\n    b() \\n\\na()\",\n",
       "  \"name = 'global'\\ng = 2\\ndef a():\\n    print('a() execution')    \\n    name = 'enclosing'\\n    print_inspect(name)\\n    def b():\\n        print('b() execution')\\n        print_inspect(name)                \\n\\n    b() \\n\\na()\",\n",
       "  \"name = 'global'\\ndef a():\\n    print('a() execution')        \\n    print_inspect(name)\\n    def b():\\n        print('b() execution')\\n        print_inspect(name)                \\n\\n    b() \\n\\nprint_inspect(name)\\na()\",\n",
       "  \"name = 'global'\\ndef a():\\n    print('a() execution')    \\n    name = 'enclosing'\\n    print_inspect(name)\\n    def b():\\n        print('b() execution')\\n        print_inspect(name)                \\n\\n    b() \\n\\nprint_inspect(name)\\na()\",\n",
       "  \"name = 'global'\\ndef a():\\n    print('a() execution')    \\n    name = 'enclosing'\\n    print_inspect(name)\\n    def b():\\n        print('b() execution')\\n        name = 'local'\\n        print_inspect(name)                \\n\\n    b() \\n\\nprint_inspect(name)\\na()\",\n",
       "  'globals()'],\n",
       " 'Out': {},\n",
       " 'get_ipython': <bound method InteractiveShell.get_ipython of <ipykernel.zmqshell.ZMQInteractiveShell object at 0x00000213D3CDD8B0>>,\n",
       " 'exit': <IPython.core.autocall.ZMQExitAutocall at 0x213d3fc6270>,\n",
       " 'quit': <IPython.core.autocall.ZMQExitAutocall at 0x213d3fc6270>,\n",
       " 'open': <function _io.open(file, mode='r', buffering=-1, encoding=None, errors=None, newline=None, closefd=True, opener=None)>,\n",
       " '_': '',\n",
       " '__': '',\n",
       " '___': '',\n",
       " '__vsc_ipynb_file__': 'c:\\\\Users\\\\Joseph_Higaki\\\\projects\\\\py101\\\\notebooks\\\\02-namespaces-scopes-decor.ipynb',\n",
       " '_i': \"name = 'global'\\ndef a():\\n    print('a() execution')    \\n    name = 'enclosing'\\n    print_inspect(name)\\n    def b():\\n        print('b() execution')\\n        name = 'local'\\n        print_inspect(name)                \\n\\n    b() \\n\\nprint_inspect(name)\\na()\",\n",
       " '_ii': \"name = 'global'\\ndef a():\\n    print('a() execution')    \\n    name = 'enclosing'\\n    print_inspect(name)\\n    def b():\\n        print('b() execution')\\n        print_inspect(name)                \\n\\n    b() \\n\\nprint_inspect(name)\\na()\",\n",
       " '_iii': \"name = 'global'\\ndef a():\\n    print('a() execution')        \\n    print_inspect(name)\\n    def b():\\n        print('b() execution')\\n        print_inspect(name)                \\n\\n    b() \\n\\nprint_inspect(name)\\na()\",\n",
       " '_i1': \"name = 'global'\\ng = 2\\nprint_inspect(g)\\ndef a():\\n    print('a() execution')\\n    print_inspect(name)\\n    def b():\\n        print('b() execution')\\n        print_inspect(name)                \\n\\n    b() \\n\\na()\",\n",
       " 'name': 'global',\n",
       " 'g': 2,\n",
       " '_i2': \"def print_inspect(x):\\n    print(f'print = {x}')    \\n    print(f'print(dir()) = {dir(x)}')\\n    print(f'print(id()) = {id(x)}')\",\n",
       " 'print_inspect': <function __main__.print_inspect(x)>,\n",
       " '_i3': \"name = 'global'\\ng = 2\\nprint_inspect(g)\\ndef a():\\n    print('a() execution')\\n    print_inspect(name)\\n    def b():\\n        print('b() execution')\\n        print_inspect(name)                \\n\\n    b() \\n\\na()\",\n",
       " 'a': <function __main__.a()>,\n",
       " '_i4': \"name = 'global'\\ng = 2\\ndef a():\\n    print('a() execution')\\n    name - 'enclosing'\\n    print_inspect(name)\\n    def b():\\n        print('b() execution')\\n        print_inspect(name)                \\n\\n    b() \\n\\na()\",\n",
       " '_i5': \"name = 'global'\\ng = 2\\ndef a():\\n    print('a() execution')\\n    name = 'enclosing'\\n    print_inspect(name)\\n    def b():\\n        print('b() execution')\\n        print_inspect(name)                \\n\\n    b() \\n\\na()\",\n",
       " '_i6': \"name = 'global'\\ng = 2\\ndef a():\\n    print('a() execution')\\n    global name = 'enclosing'\\n    print_inspect(name)\\n    def b():\\n        print('b() execution')\\n        print_inspect(name)                \\n\\n    b() \\n\\na()\",\n",
       " '_i7': \"name = 'global'\\ng = 2\\ndef a():\\n    print('a() execution')\\n    global name \\n    name = 'enclosing'\\n    print_inspect(name)\\n    def b():\\n        print('b() execution')\\n        print_inspect(name)                \\n\\n    b() \\n\\na()\",\n",
       " '_i8': \"name = 'global'\\ng = 2\\ndef a():\\n    print('a() execution')\\n    global name = 'enclosing'\\n    print_inspect(name)\\n    def b():\\n        print('b() execution')\\n        print_inspect(name)                \\n\\n    b() \\n\\na()\",\n",
       " '_i9': \"name = 'global'\\ng = 2\\ndef a():\\n    print('a() execution')\\n    print_inspect(name)\\n    name = 'enclosing'\\n    print_inspect(name)\\n    def b():\\n        print('b() execution')\\n        print_inspect(name)                \\n\\n    b() \\n\\na()\",\n",
       " '_i10': \"name = 'global'\\ng = 2\\ndef a():\\n    print('a() execution')\\n    print_inspect(name)\\n    name = 'enclosing'\\n    print_inspect(name)\\n    def b():\\n        print('b() execution')\\n        print_inspect(name)                \\n\\n    b() \\n\\na()\",\n",
       " '_i11': \"name = 'global'\\ng = 2\\ndef a():\\n    print('a() execution')\\n    print_inspect(name)\\n    #name = 'enclosing'\\n    print_inspect(name)\\n    def b():\\n        print('b() execution')\\n        print_inspect(name)                \\n\\n    b() \\n\\na()\",\n",
       " '_i12': \"name = 'global'\\ng = 2\\ndef a():\\n    print('a() execution')    \\n    name = 'enclosing'\\n    print_inspect(name)\\n    def b():\\n        print('b() execution')\\n        print_inspect(name)                \\n\\n    b() \\n\\na()\",\n",
       " '_i13': \"name = 'global'\\ng = 2\\ndef a():\\n    print('a() execution')        \\n    print_inspect(name)\\n    def b():\\n        print('b() execution')\\n        print_inspect(name)                \\n\\n    b() \\n\\na()\",\n",
       " '_i14': \"name = 'global'\\ng = 2\\ndef a():\\n    print('a() execution')    \\n    name = 'enclosing'\\n    print_inspect(name)\\n    def b():\\n        print('b() execution')\\n        print_inspect(name)                \\n\\n    b() \\n\\na()\",\n",
       " '_i15': \"name = 'global'\\ndef a():\\n    print('a() execution')        \\n    print_inspect(name)\\n    def b():\\n        print('b() execution')\\n        print_inspect(name)                \\n\\n    b() \\n\\nprint_inspect(name)\\na()\",\n",
       " '_i16': \"name = 'global'\\ndef a():\\n    print('a() execution')    \\n    name = 'enclosing'\\n    print_inspect(name)\\n    def b():\\n        print('b() execution')\\n        print_inspect(name)                \\n\\n    b() \\n\\nprint_inspect(name)\\na()\",\n",
       " '_i17': \"name = 'global'\\ndef a():\\n    print('a() execution')    \\n    name = 'enclosing'\\n    print_inspect(name)\\n    def b():\\n        print('b() execution')\\n        name = 'local'\\n        print_inspect(name)                \\n\\n    b() \\n\\nprint_inspect(name)\\na()\",\n",
       " '_i18': 'globals()'}"
      ]
     },
     "execution_count": 18,
     "metadata": {},
     "output_type": "execute_result"
    }
   ],
   "source": [
    "globals()"
   ]
  },
  {
   "cell_type": "code",
   "execution_count": 19,
   "metadata": {},
   "outputs": [
    {
     "data": {
      "text/plain": [
       "{'__name__': '__main__',\n",
       " '__doc__': 'Automatically created module for IPython interactive environment',\n",
       " '__package__': None,\n",
       " '__loader__': None,\n",
       " '__spec__': None,\n",
       " '__builtin__': <module 'builtins' (built-in)>,\n",
       " '__builtins__': <module 'builtins' (built-in)>,\n",
       " '_ih': ['',\n",
       "  \"name = 'global'\\ng = 2\\nprint_inspect(g)\\ndef a():\\n    print('a() execution')\\n    print_inspect(name)\\n    def b():\\n        print('b() execution')\\n        print_inspect(name)                \\n\\n    b() \\n\\na()\",\n",
       "  \"def print_inspect(x):\\n    print(f'print = {x}')    \\n    print(f'print(dir()) = {dir(x)}')\\n    print(f'print(id()) = {id(x)}')\",\n",
       "  \"name = 'global'\\ng = 2\\nprint_inspect(g)\\ndef a():\\n    print('a() execution')\\n    print_inspect(name)\\n    def b():\\n        print('b() execution')\\n        print_inspect(name)                \\n\\n    b() \\n\\na()\",\n",
       "  \"name = 'global'\\ng = 2\\ndef a():\\n    print('a() execution')\\n    name - 'enclosing'\\n    print_inspect(name)\\n    def b():\\n        print('b() execution')\\n        print_inspect(name)                \\n\\n    b() \\n\\na()\",\n",
       "  \"name = 'global'\\ng = 2\\ndef a():\\n    print('a() execution')\\n    name = 'enclosing'\\n    print_inspect(name)\\n    def b():\\n        print('b() execution')\\n        print_inspect(name)                \\n\\n    b() \\n\\na()\",\n",
       "  \"name = 'global'\\ng = 2\\ndef a():\\n    print('a() execution')\\n    global name = 'enclosing'\\n    print_inspect(name)\\n    def b():\\n        print('b() execution')\\n        print_inspect(name)                \\n\\n    b() \\n\\na()\",\n",
       "  \"name = 'global'\\ng = 2\\ndef a():\\n    print('a() execution')\\n    global name \\n    name = 'enclosing'\\n    print_inspect(name)\\n    def b():\\n        print('b() execution')\\n        print_inspect(name)                \\n\\n    b() \\n\\na()\",\n",
       "  \"name = 'global'\\ng = 2\\ndef a():\\n    print('a() execution')\\n    global name = 'enclosing'\\n    print_inspect(name)\\n    def b():\\n        print('b() execution')\\n        print_inspect(name)                \\n\\n    b() \\n\\na()\",\n",
       "  \"name = 'global'\\ng = 2\\ndef a():\\n    print('a() execution')\\n    print_inspect(name)\\n    name = 'enclosing'\\n    print_inspect(name)\\n    def b():\\n        print('b() execution')\\n        print_inspect(name)                \\n\\n    b() \\n\\na()\",\n",
       "  \"name = 'global'\\ng = 2\\ndef a():\\n    print('a() execution')\\n    print_inspect(name)\\n    name = 'enclosing'\\n    print_inspect(name)\\n    def b():\\n        print('b() execution')\\n        print_inspect(name)                \\n\\n    b() \\n\\na()\",\n",
       "  \"name = 'global'\\ng = 2\\ndef a():\\n    print('a() execution')\\n    print_inspect(name)\\n    #name = 'enclosing'\\n    print_inspect(name)\\n    def b():\\n        print('b() execution')\\n        print_inspect(name)                \\n\\n    b() \\n\\na()\",\n",
       "  \"name = 'global'\\ng = 2\\ndef a():\\n    print('a() execution')    \\n    name = 'enclosing'\\n    print_inspect(name)\\n    def b():\\n        print('b() execution')\\n        print_inspect(name)                \\n\\n    b() \\n\\na()\",\n",
       "  \"name = 'global'\\ng = 2\\ndef a():\\n    print('a() execution')        \\n    print_inspect(name)\\n    def b():\\n        print('b() execution')\\n        print_inspect(name)                \\n\\n    b() \\n\\na()\",\n",
       "  \"name = 'global'\\ng = 2\\ndef a():\\n    print('a() execution')    \\n    name = 'enclosing'\\n    print_inspect(name)\\n    def b():\\n        print('b() execution')\\n        print_inspect(name)                \\n\\n    b() \\n\\na()\",\n",
       "  \"name = 'global'\\ndef a():\\n    print('a() execution')        \\n    print_inspect(name)\\n    def b():\\n        print('b() execution')\\n        print_inspect(name)                \\n\\n    b() \\n\\nprint_inspect(name)\\na()\",\n",
       "  \"name = 'global'\\ndef a():\\n    print('a() execution')    \\n    name = 'enclosing'\\n    print_inspect(name)\\n    def b():\\n        print('b() execution')\\n        print_inspect(name)                \\n\\n    b() \\n\\nprint_inspect(name)\\na()\",\n",
       "  \"name = 'global'\\ndef a():\\n    print('a() execution')    \\n    name = 'enclosing'\\n    print_inspect(name)\\n    def b():\\n        print('b() execution')\\n        name = 'local'\\n        print_inspect(name)                \\n\\n    b() \\n\\nprint_inspect(name)\\na()\",\n",
       "  'globals()',\n",
       "  'locals()'],\n",
       " '_oh': {18: {...}},\n",
       " '_dh': [WindowsPath('c:/Users/Joseph_Higaki/projects/py101/notebooks')],\n",
       " 'In': ['',\n",
       "  \"name = 'global'\\ng = 2\\nprint_inspect(g)\\ndef a():\\n    print('a() execution')\\n    print_inspect(name)\\n    def b():\\n        print('b() execution')\\n        print_inspect(name)                \\n\\n    b() \\n\\na()\",\n",
       "  \"def print_inspect(x):\\n    print(f'print = {x}')    \\n    print(f'print(dir()) = {dir(x)}')\\n    print(f'print(id()) = {id(x)}')\",\n",
       "  \"name = 'global'\\ng = 2\\nprint_inspect(g)\\ndef a():\\n    print('a() execution')\\n    print_inspect(name)\\n    def b():\\n        print('b() execution')\\n        print_inspect(name)                \\n\\n    b() \\n\\na()\",\n",
       "  \"name = 'global'\\ng = 2\\ndef a():\\n    print('a() execution')\\n    name - 'enclosing'\\n    print_inspect(name)\\n    def b():\\n        print('b() execution')\\n        print_inspect(name)                \\n\\n    b() \\n\\na()\",\n",
       "  \"name = 'global'\\ng = 2\\ndef a():\\n    print('a() execution')\\n    name = 'enclosing'\\n    print_inspect(name)\\n    def b():\\n        print('b() execution')\\n        print_inspect(name)                \\n\\n    b() \\n\\na()\",\n",
       "  \"name = 'global'\\ng = 2\\ndef a():\\n    print('a() execution')\\n    global name = 'enclosing'\\n    print_inspect(name)\\n    def b():\\n        print('b() execution')\\n        print_inspect(name)                \\n\\n    b() \\n\\na()\",\n",
       "  \"name = 'global'\\ng = 2\\ndef a():\\n    print('a() execution')\\n    global name \\n    name = 'enclosing'\\n    print_inspect(name)\\n    def b():\\n        print('b() execution')\\n        print_inspect(name)                \\n\\n    b() \\n\\na()\",\n",
       "  \"name = 'global'\\ng = 2\\ndef a():\\n    print('a() execution')\\n    global name = 'enclosing'\\n    print_inspect(name)\\n    def b():\\n        print('b() execution')\\n        print_inspect(name)                \\n\\n    b() \\n\\na()\",\n",
       "  \"name = 'global'\\ng = 2\\ndef a():\\n    print('a() execution')\\n    print_inspect(name)\\n    name = 'enclosing'\\n    print_inspect(name)\\n    def b():\\n        print('b() execution')\\n        print_inspect(name)                \\n\\n    b() \\n\\na()\",\n",
       "  \"name = 'global'\\ng = 2\\ndef a():\\n    print('a() execution')\\n    print_inspect(name)\\n    name = 'enclosing'\\n    print_inspect(name)\\n    def b():\\n        print('b() execution')\\n        print_inspect(name)                \\n\\n    b() \\n\\na()\",\n",
       "  \"name = 'global'\\ng = 2\\ndef a():\\n    print('a() execution')\\n    print_inspect(name)\\n    #name = 'enclosing'\\n    print_inspect(name)\\n    def b():\\n        print('b() execution')\\n        print_inspect(name)                \\n\\n    b() \\n\\na()\",\n",
       "  \"name = 'global'\\ng = 2\\ndef a():\\n    print('a() execution')    \\n    name = 'enclosing'\\n    print_inspect(name)\\n    def b():\\n        print('b() execution')\\n        print_inspect(name)                \\n\\n    b() \\n\\na()\",\n",
       "  \"name = 'global'\\ng = 2\\ndef a():\\n    print('a() execution')        \\n    print_inspect(name)\\n    def b():\\n        print('b() execution')\\n        print_inspect(name)                \\n\\n    b() \\n\\na()\",\n",
       "  \"name = 'global'\\ng = 2\\ndef a():\\n    print('a() execution')    \\n    name = 'enclosing'\\n    print_inspect(name)\\n    def b():\\n        print('b() execution')\\n        print_inspect(name)                \\n\\n    b() \\n\\na()\",\n",
       "  \"name = 'global'\\ndef a():\\n    print('a() execution')        \\n    print_inspect(name)\\n    def b():\\n        print('b() execution')\\n        print_inspect(name)                \\n\\n    b() \\n\\nprint_inspect(name)\\na()\",\n",
       "  \"name = 'global'\\ndef a():\\n    print('a() execution')    \\n    name = 'enclosing'\\n    print_inspect(name)\\n    def b():\\n        print('b() execution')\\n        print_inspect(name)                \\n\\n    b() \\n\\nprint_inspect(name)\\na()\",\n",
       "  \"name = 'global'\\ndef a():\\n    print('a() execution')    \\n    name = 'enclosing'\\n    print_inspect(name)\\n    def b():\\n        print('b() execution')\\n        name = 'local'\\n        print_inspect(name)                \\n\\n    b() \\n\\nprint_inspect(name)\\na()\",\n",
       "  'globals()',\n",
       "  'locals()'],\n",
       " 'Out': {18: {...}},\n",
       " 'get_ipython': <bound method InteractiveShell.get_ipython of <ipykernel.zmqshell.ZMQInteractiveShell object at 0x00000213D3CDD8B0>>,\n",
       " 'exit': <IPython.core.autocall.ZMQExitAutocall at 0x213d3fc6270>,\n",
       " 'quit': <IPython.core.autocall.ZMQExitAutocall at 0x213d3fc6270>,\n",
       " 'open': <function _io.open(file, mode='r', buffering=-1, encoding=None, errors=None, newline=None, closefd=True, opener=None)>,\n",
       " '_': {...},\n",
       " '__': '',\n",
       " '___': '',\n",
       " '__vsc_ipynb_file__': 'c:\\\\Users\\\\Joseph_Higaki\\\\projects\\\\py101\\\\notebooks\\\\02-namespaces-scopes-decor.ipynb',\n",
       " '_i': 'globals()',\n",
       " '_ii': \"name = 'global'\\ndef a():\\n    print('a() execution')    \\n    name = 'enclosing'\\n    print_inspect(name)\\n    def b():\\n        print('b() execution')\\n        name = 'local'\\n        print_inspect(name)                \\n\\n    b() \\n\\nprint_inspect(name)\\na()\",\n",
       " '_iii': \"name = 'global'\\ndef a():\\n    print('a() execution')    \\n    name = 'enclosing'\\n    print_inspect(name)\\n    def b():\\n        print('b() execution')\\n        print_inspect(name)                \\n\\n    b() \\n\\nprint_inspect(name)\\na()\",\n",
       " '_i1': \"name = 'global'\\ng = 2\\nprint_inspect(g)\\ndef a():\\n    print('a() execution')\\n    print_inspect(name)\\n    def b():\\n        print('b() execution')\\n        print_inspect(name)                \\n\\n    b() \\n\\na()\",\n",
       " 'name': 'global',\n",
       " 'g': 2,\n",
       " '_i2': \"def print_inspect(x):\\n    print(f'print = {x}')    \\n    print(f'print(dir()) = {dir(x)}')\\n    print(f'print(id()) = {id(x)}')\",\n",
       " 'print_inspect': <function __main__.print_inspect(x)>,\n",
       " '_i3': \"name = 'global'\\ng = 2\\nprint_inspect(g)\\ndef a():\\n    print('a() execution')\\n    print_inspect(name)\\n    def b():\\n        print('b() execution')\\n        print_inspect(name)                \\n\\n    b() \\n\\na()\",\n",
       " 'a': <function __main__.a()>,\n",
       " '_i4': \"name = 'global'\\ng = 2\\ndef a():\\n    print('a() execution')\\n    name - 'enclosing'\\n    print_inspect(name)\\n    def b():\\n        print('b() execution')\\n        print_inspect(name)                \\n\\n    b() \\n\\na()\",\n",
       " '_i5': \"name = 'global'\\ng = 2\\ndef a():\\n    print('a() execution')\\n    name = 'enclosing'\\n    print_inspect(name)\\n    def b():\\n        print('b() execution')\\n        print_inspect(name)                \\n\\n    b() \\n\\na()\",\n",
       " '_i6': \"name = 'global'\\ng = 2\\ndef a():\\n    print('a() execution')\\n    global name = 'enclosing'\\n    print_inspect(name)\\n    def b():\\n        print('b() execution')\\n        print_inspect(name)                \\n\\n    b() \\n\\na()\",\n",
       " '_i7': \"name = 'global'\\ng = 2\\ndef a():\\n    print('a() execution')\\n    global name \\n    name = 'enclosing'\\n    print_inspect(name)\\n    def b():\\n        print('b() execution')\\n        print_inspect(name)                \\n\\n    b() \\n\\na()\",\n",
       " '_i8': \"name = 'global'\\ng = 2\\ndef a():\\n    print('a() execution')\\n    global name = 'enclosing'\\n    print_inspect(name)\\n    def b():\\n        print('b() execution')\\n        print_inspect(name)                \\n\\n    b() \\n\\na()\",\n",
       " '_i9': \"name = 'global'\\ng = 2\\ndef a():\\n    print('a() execution')\\n    print_inspect(name)\\n    name = 'enclosing'\\n    print_inspect(name)\\n    def b():\\n        print('b() execution')\\n        print_inspect(name)                \\n\\n    b() \\n\\na()\",\n",
       " '_i10': \"name = 'global'\\ng = 2\\ndef a():\\n    print('a() execution')\\n    print_inspect(name)\\n    name = 'enclosing'\\n    print_inspect(name)\\n    def b():\\n        print('b() execution')\\n        print_inspect(name)                \\n\\n    b() \\n\\na()\",\n",
       " '_i11': \"name = 'global'\\ng = 2\\ndef a():\\n    print('a() execution')\\n    print_inspect(name)\\n    #name = 'enclosing'\\n    print_inspect(name)\\n    def b():\\n        print('b() execution')\\n        print_inspect(name)                \\n\\n    b() \\n\\na()\",\n",
       " '_i12': \"name = 'global'\\ng = 2\\ndef a():\\n    print('a() execution')    \\n    name = 'enclosing'\\n    print_inspect(name)\\n    def b():\\n        print('b() execution')\\n        print_inspect(name)                \\n\\n    b() \\n\\na()\",\n",
       " '_i13': \"name = 'global'\\ng = 2\\ndef a():\\n    print('a() execution')        \\n    print_inspect(name)\\n    def b():\\n        print('b() execution')\\n        print_inspect(name)                \\n\\n    b() \\n\\na()\",\n",
       " '_i14': \"name = 'global'\\ng = 2\\ndef a():\\n    print('a() execution')    \\n    name = 'enclosing'\\n    print_inspect(name)\\n    def b():\\n        print('b() execution')\\n        print_inspect(name)                \\n\\n    b() \\n\\na()\",\n",
       " '_i15': \"name = 'global'\\ndef a():\\n    print('a() execution')        \\n    print_inspect(name)\\n    def b():\\n        print('b() execution')\\n        print_inspect(name)                \\n\\n    b() \\n\\nprint_inspect(name)\\na()\",\n",
       " '_i16': \"name = 'global'\\ndef a():\\n    print('a() execution')    \\n    name = 'enclosing'\\n    print_inspect(name)\\n    def b():\\n        print('b() execution')\\n        print_inspect(name)                \\n\\n    b() \\n\\nprint_inspect(name)\\na()\",\n",
       " '_i17': \"name = 'global'\\ndef a():\\n    print('a() execution')    \\n    name = 'enclosing'\\n    print_inspect(name)\\n    def b():\\n        print('b() execution')\\n        name = 'local'\\n        print_inspect(name)                \\n\\n    b() \\n\\nprint_inspect(name)\\na()\",\n",
       " '_i18': 'globals()',\n",
       " '_18': {...},\n",
       " '_i19': 'locals()'}"
      ]
     },
     "execution_count": 19,
     "metadata": {},
     "output_type": "execute_result"
    }
   ],
   "source": [
    "locals()"
   ]
  },
  {
   "cell_type": "code",
   "execution_count": 25,
   "metadata": {},
   "outputs": [
    {
     "name": "stdout",
     "output_type": "stream",
     "text": [
      "print = some message\n",
      "print(dir()) = ['__add__', '__class__', '__contains__', '__delattr__', '__dir__', '__doc__', '__eq__', '__format__', '__ge__', '__getattribute__', '__getitem__', '__getnewargs__', '__getstate__', '__gt__', '__hash__', '__init__', '__init_subclass__', '__iter__', '__le__', '__len__', '__lt__', '__mod__', '__mul__', '__ne__', '__new__', '__reduce__', '__reduce_ex__', '__repr__', '__rmod__', '__rmul__', '__setattr__', '__sizeof__', '__str__', '__subclasshook__', 'capitalize', 'casefold', 'center', 'count', 'encode', 'endswith', 'expandtabs', 'find', 'format', 'format_map', 'index', 'isalnum', 'isalpha', 'isascii', 'isdecimal', 'isdigit', 'isidentifier', 'islower', 'isnumeric', 'isprintable', 'isspace', 'istitle', 'isupper', 'join', 'ljust', 'lower', 'lstrip', 'maketrans', 'partition', 'removeprefix', 'removesuffix', 'replace', 'rfind', 'rindex', 'rjust', 'rpartition', 'rsplit', 'rstrip', 'split', 'splitlines', 'startswith', 'strip', 'swapcase', 'title', 'translate', 'upper', 'zfill']\n",
      "print(id()) = 2284191296688\n",
      "print = some message\n",
      "print(dir()) = ['__add__', '__class__', '__contains__', '__delattr__', '__dir__', '__doc__', '__eq__', '__format__', '__ge__', '__getattribute__', '__getitem__', '__getnewargs__', '__getstate__', '__gt__', '__hash__', '__init__', '__init_subclass__', '__iter__', '__le__', '__len__', '__lt__', '__mod__', '__mul__', '__ne__', '__new__', '__reduce__', '__reduce_ex__', '__repr__', '__rmod__', '__rmul__', '__setattr__', '__sizeof__', '__str__', '__subclasshook__', 'capitalize', 'casefold', 'center', 'count', 'encode', 'endswith', 'expandtabs', 'find', 'format', 'format_map', 'index', 'isalnum', 'isalpha', 'isascii', 'isdecimal', 'isdigit', 'isidentifier', 'islower', 'isnumeric', 'isprintable', 'isspace', 'istitle', 'isupper', 'join', 'ljust', 'lower', 'lstrip', 'maketrans', 'partition', 'removeprefix', 'removesuffix', 'replace', 'rfind', 'rindex', 'rjust', 'rpartition', 'rsplit', 'rstrip', 'split', 'splitlines', 'startswith', 'strip', 'swapcase', 'title', 'translate', 'upper', 'zfill']\n",
      "print(id()) = 2284191296688\n",
      "print = some message\n",
      "print(dir()) = ['__add__', '__class__', '__contains__', '__delattr__', '__dir__', '__doc__', '__eq__', '__format__', '__ge__', '__getattribute__', '__getitem__', '__getnewargs__', '__getstate__', '__gt__', '__hash__', '__init__', '__init_subclass__', '__iter__', '__le__', '__len__', '__lt__', '__mod__', '__mul__', '__ne__', '__new__', '__reduce__', '__reduce_ex__', '__repr__', '__rmod__', '__rmul__', '__setattr__', '__sizeof__', '__str__', '__subclasshook__', 'capitalize', 'casefold', 'center', 'count', 'encode', 'endswith', 'expandtabs', 'find', 'format', 'format_map', 'index', 'isalnum', 'isalpha', 'isascii', 'isdecimal', 'isdigit', 'isidentifier', 'islower', 'isnumeric', 'isprintable', 'isspace', 'istitle', 'isupper', 'join', 'ljust', 'lower', 'lstrip', 'maketrans', 'partition', 'removeprefix', 'removesuffix', 'replace', 'rfind', 'rindex', 'rjust', 'rpartition', 'rsplit', 'rstrip', 'split', 'splitlines', 'startswith', 'strip', 'swapcase', 'title', 'translate', 'upper', 'zfill']\n",
      "print(id()) = 2284191296688\n",
      "print = changed message\n",
      "print(dir()) = ['__add__', '__class__', '__contains__', '__delattr__', '__dir__', '__doc__', '__eq__', '__format__', '__ge__', '__getattribute__', '__getitem__', '__getnewargs__', '__getstate__', '__gt__', '__hash__', '__init__', '__init_subclass__', '__iter__', '__le__', '__len__', '__lt__', '__mod__', '__mul__', '__ne__', '__new__', '__reduce__', '__reduce_ex__', '__repr__', '__rmod__', '__rmul__', '__setattr__', '__sizeof__', '__str__', '__subclasshook__', 'capitalize', 'casefold', 'center', 'count', 'encode', 'endswith', 'expandtabs', 'find', 'format', 'format_map', 'index', 'isalnum', 'isalpha', 'isascii', 'isdecimal', 'isdigit', 'isidentifier', 'islower', 'isnumeric', 'isprintable', 'isspace', 'istitle', 'isupper', 'join', 'ljust', 'lower', 'lstrip', 'maketrans', 'partition', 'removeprefix', 'removesuffix', 'replace', 'rfind', 'rindex', 'rjust', 'rpartition', 'rsplit', 'rstrip', 'split', 'splitlines', 'startswith', 'strip', 'swapcase', 'title', 'translate', 'upper', 'zfill']\n",
      "print(id()) = 2284191316080\n"
     ]
    }
   ],
   "source": [
    "def foo():\n",
    "    msg = 'some message'\n",
    "    loc = locals()    \n",
    "    print_inspect(msg)\n",
    "    print_inspect(loc['msg'])\n",
    "    loc['msg'] = 'changed message'\n",
    "    print_inspect(msg)\n",
    "    print_inspect(loc['msg'])\n",
    "foo()\n"
   ]
  },
  {
   "cell_type": "markdown",
   "metadata": {},
   "source": [
    "# Closure  \n",
    "\n",
    "**A closure is a record storing a function together with an environment** \n",
    "The environment is a mapping associating each free variable of the function (variables that are used locally, but defined in an enclosing scope) with the value or reference to which the name was bound when the closure was created. Unlike a plain function, a closure allows the function to access those captured variables through the closure's copies of their values or references, even when the function is invoked outside their scope."
   ]
  },
  {
   "cell_type": "code",
   "execution_count": 45,
   "metadata": {},
   "outputs": [],
   "source": [
    "def outer_function(outer_function_arg_message): \n",
    "    message = outer_function_arg_message \n",
    "            \n",
    "    def inner_function(): \n",
    "        print(message) \n",
    "            \n",
    "    print_inspect(inner_function)\n",
    "    return inner_function "
   ]
  },
  {
   "cell_type": "code",
   "execution_count": 46,
   "metadata": {},
   "outputs": [
    {
     "name": "stdout",
     "output_type": "stream",
     "text": [
      "print = <function outer_function at 0x00000213D46D1B20>\n",
      "print(dir()) = ['__annotations__', '__builtins__', '__call__', '__class__', '__closure__', '__code__', '__defaults__', '__delattr__', '__dict__', '__dir__', '__doc__', '__eq__', '__format__', '__ge__', '__get__', '__getattribute__', '__getstate__', '__globals__', '__gt__', '__hash__', '__init__', '__init_subclass__', '__kwdefaults__', '__le__', '__lt__', '__module__', '__name__', '__ne__', '__new__', '__qualname__', '__reduce__', '__reduce_ex__', '__repr__', '__setattr__', '__sizeof__', '__str__', '__subclasshook__', '__type_params__']\n",
      "print(id()) = 2284191554336\n",
      "print = <function outer_function at 0x00000213D46D1B20>\n",
      "print(dir()) = ['__annotations__', '__builtins__', '__call__', '__class__', '__closure__', '__code__', '__defaults__', '__delattr__', '__dict__', '__dir__', '__doc__', '__eq__', '__format__', '__ge__', '__get__', '__getattribute__', '__getstate__', '__globals__', '__gt__', '__hash__', '__init__', '__init_subclass__', '__kwdefaults__', '__le__', '__lt__', '__module__', '__name__', '__ne__', '__new__', '__qualname__', '__reduce__', '__reduce_ex__', '__repr__', '__setattr__', '__sizeof__', '__str__', '__subclasshook__', '__type_params__']\n",
      "print(id()) = 2284191554336\n"
     ]
    }
   ],
   "source": [
    "print_inspect(globals()['outer_function'])\n",
    "print_inspect(locals()['outer_function'])\n",
    "\n",
    "#print_inspect(globals()['inner_function'])\n",
    "#print_inspect(locals()['inner_function'])"
   ]
  },
  {
   "cell_type": "code",
   "execution_count": 47,
   "metadata": {},
   "outputs": [
    {
     "name": "stdout",
     "output_type": "stream",
     "text": [
      "print = <function outer_function.<locals>.inner_function at 0x00000213D46D1BC0>\n",
      "print(dir()) = ['__annotations__', '__builtins__', '__call__', '__class__', '__closure__', '__code__', '__defaults__', '__delattr__', '__dict__', '__dir__', '__doc__', '__eq__', '__format__', '__ge__', '__get__', '__getattribute__', '__getstate__', '__globals__', '__gt__', '__hash__', '__init__', '__init_subclass__', '__kwdefaults__', '__le__', '__lt__', '__module__', '__name__', '__ne__', '__new__', '__qualname__', '__reduce__', '__reduce_ex__', '__repr__', '__setattr__', '__sizeof__', '__str__', '__subclasshook__', '__type_params__']\n",
      "print(id()) = 2284191554496\n",
      "print = <function outer_function.<locals>.inner_function at 0x00000213D46D1BC0>\n",
      "print(dir()) = ['__annotations__', '__builtins__', '__call__', '__class__', '__closure__', '__code__', '__defaults__', '__delattr__', '__dict__', '__dir__', '__doc__', '__eq__', '__format__', '__ge__', '__get__', '__getattribute__', '__getstate__', '__globals__', '__gt__', '__hash__', '__init__', '__init_subclass__', '__kwdefaults__', '__le__', '__lt__', '__module__', '__name__', '__ne__', '__new__', '__qualname__', '__reduce__', '__reduce_ex__', '__repr__', '__setattr__', '__sizeof__', '__str__', '__subclasshook__', '__type_params__']\n",
      "print(id()) = 2284191554496\n",
      "Hi!\n"
     ]
    }
   ],
   "source": [
    "my_function = outer_function('Hi!') \n",
    "print_inspect(my_function)\n",
    "my_function()\n"
   ]
  },
  {
   "cell_type": "markdown",
   "metadata": {},
   "source": [
    "Outer funnction return a reference to Inner function"
   ]
  },
  {
   "cell_type": "markdown",
   "metadata": {},
   "source": [
    "## Closuere with different args"
   ]
  },
  {
   "cell_type": "code",
   "execution_count": 55,
   "metadata": {},
   "outputs": [],
   "source": [
    "def format_message(format_string): \n",
    "    frmt_string = format_string \n",
    "            \n",
    "    def inner_function(message): \n",
    "        print(format_string.format(message))              \n",
    "\n",
    "    return inner_function  "
   ]
  },
  {
   "cell_type": "code",
   "execution_count": 56,
   "metadata": {},
   "outputs": [
    {
     "name": "stdout",
     "output_type": "stream",
     "text": [
      "my FIRST formatted message : Hello!\n",
      "print = <function format_message.<locals>.inner_function at 0x00000213D46D11C0>\n",
      "print(dir()) = ['__annotations__', '__builtins__', '__call__', '__class__', '__closure__', '__code__', '__defaults__', '__delattr__', '__dict__', '__dir__', '__doc__', '__eq__', '__format__', '__ge__', '__get__', '__getattribute__', '__getstate__', '__globals__', '__gt__', '__hash__', '__init__', '__init_subclass__', '__kwdefaults__', '__le__', '__lt__', '__module__', '__name__', '__ne__', '__new__', '__qualname__', '__reduce__', '__reduce_ex__', '__repr__', '__setattr__', '__sizeof__', '__str__', '__subclasshook__', '__type_params__']\n",
      "print(id()) = 2284191551936\n",
      "THE SECOND  formatted message : Howdy\n",
      "print = <function format_message.<locals>.inner_function at 0x00000213D46D1EE0>\n",
      "print(dir()) = ['__annotations__', '__builtins__', '__call__', '__class__', '__closure__', '__code__', '__defaults__', '__delattr__', '__dict__', '__dir__', '__doc__', '__eq__', '__format__', '__ge__', '__get__', '__getattribute__', '__getstate__', '__globals__', '__gt__', '__hash__', '__init__', '__init_subclass__', '__kwdefaults__', '__le__', '__lt__', '__module__', '__name__', '__ne__', '__new__', '__qualname__', '__reduce__', '__reduce_ex__', '__repr__', '__setattr__', '__sizeof__', '__str__', '__subclasshook__', '__type_params__']\n",
      "print(id()) = 2284191555296\n",
      "my FIRST formatted message : HOla\n",
      "print = <function format_message.<locals>.inner_function at 0x00000213D46D11C0>\n",
      "print(dir()) = ['__annotations__', '__builtins__', '__call__', '__class__', '__closure__', '__code__', '__defaults__', '__delattr__', '__dict__', '__dir__', '__doc__', '__eq__', '__format__', '__ge__', '__get__', '__getattribute__', '__getstate__', '__globals__', '__gt__', '__hash__', '__init__', '__init_subclass__', '__kwdefaults__', '__le__', '__lt__', '__module__', '__name__', '__ne__', '__new__', '__qualname__', '__reduce__', '__reduce_ex__', '__repr__', '__setattr__', '__sizeof__', '__str__', '__subclasshook__', '__type_params__']\n",
      "print(id()) = 2284191551936\n",
      "THE SECOND  formatted message : How you doin\n",
      "print = <function format_message.<locals>.inner_function at 0x00000213D46D1EE0>\n",
      "print(dir()) = ['__annotations__', '__builtins__', '__call__', '__class__', '__closure__', '__code__', '__defaults__', '__delattr__', '__dict__', '__dir__', '__doc__', '__eq__', '__format__', '__ge__', '__get__', '__getattribute__', '__getstate__', '__globals__', '__gt__', '__hash__', '__init__', '__init_subclass__', '__kwdefaults__', '__le__', '__lt__', '__module__', '__name__', '__ne__', '__new__', '__qualname__', '__reduce__', '__reduce_ex__', '__repr__', '__setattr__', '__sizeof__', '__str__', '__subclasshook__', '__type_params__']\n",
      "print(id()) = 2284191555296\n"
     ]
    }
   ],
   "source": [
    "my_formatter1 = format_message('my FIRST formatted message : {}') \n",
    "my_formatter1('Hello!') \n",
    "print_inspect(my_formatter1)\n",
    "\n",
    "my_formatter2 = format_message('THE SECOND  formatted message : {}') \n",
    "my_formatter2('Howdy') \n",
    "print_inspect(my_formatter2)\n",
    "\n",
    "my_formatter1('HOla') \n",
    "print_inspect(my_formatter1)\n",
    "\n",
    "my_formatter2('How you doin') \n",
    "print_inspect(my_formatter2)\n"
   ]
  },
  {
   "cell_type": "markdown",
   "metadata": {},
   "source": [
    "## Closure with Counter"
   ]
  },
  {
   "cell_type": "code",
   "execution_count": 66,
   "metadata": {},
   "outputs": [],
   "source": [
    "def function_with_counter():\n",
    "    count = 0              \n",
    "    print_inspect(count)\n",
    "\n",
    "    def some_function(msg): \n",
    "        nonlocal count\n",
    "        print_inspect(count)\n",
    "        count += 1 \n",
    "        print(f'{count:4}: {msg}')              \n",
    "\n",
    "    return some_function  \n"
   ]
  },
  {
   "cell_type": "code",
   "execution_count": 67,
   "metadata": {},
   "outputs": [
    {
     "name": "stdout",
     "output_type": "stream",
     "text": [
      "print = 0\n",
      "print(dir()) = ['__abs__', '__add__', '__and__', '__bool__', '__ceil__', '__class__', '__delattr__', '__dir__', '__divmod__', '__doc__', '__eq__', '__float__', '__floor__', '__floordiv__', '__format__', '__ge__', '__getattribute__', '__getnewargs__', '__getstate__', '__gt__', '__hash__', '__index__', '__init__', '__init_subclass__', '__int__', '__invert__', '__le__', '__lshift__', '__lt__', '__mod__', '__mul__', '__ne__', '__neg__', '__new__', '__or__', '__pos__', '__pow__', '__radd__', '__rand__', '__rdivmod__', '__reduce__', '__reduce_ex__', '__repr__', '__rfloordiv__', '__rlshift__', '__rmod__', '__rmul__', '__ror__', '__round__', '__rpow__', '__rrshift__', '__rshift__', '__rsub__', '__rtruediv__', '__rxor__', '__setattr__', '__sizeof__', '__str__', '__sub__', '__subclasshook__', '__truediv__', '__trunc__', '__xor__', 'as_integer_ratio', 'bit_count', 'bit_length', 'conjugate', 'denominator', 'from_bytes', 'imag', 'is_integer', 'numerator', 'real', 'to_bytes']\n",
      "print(id()) = 140706883807640\n",
      "print = 0\n",
      "print(dir()) = ['__abs__', '__add__', '__and__', '__bool__', '__ceil__', '__class__', '__delattr__', '__dir__', '__divmod__', '__doc__', '__eq__', '__float__', '__floor__', '__floordiv__', '__format__', '__ge__', '__getattribute__', '__getnewargs__', '__getstate__', '__gt__', '__hash__', '__index__', '__init__', '__init_subclass__', '__int__', '__invert__', '__le__', '__lshift__', '__lt__', '__mod__', '__mul__', '__ne__', '__neg__', '__new__', '__or__', '__pos__', '__pow__', '__radd__', '__rand__', '__rdivmod__', '__reduce__', '__reduce_ex__', '__repr__', '__rfloordiv__', '__rlshift__', '__rmod__', '__rmul__', '__ror__', '__round__', '__rpow__', '__rrshift__', '__rshift__', '__rsub__', '__rtruediv__', '__rxor__', '__setattr__', '__sizeof__', '__str__', '__sub__', '__subclasshook__', '__truediv__', '__trunc__', '__xor__', 'as_integer_ratio', 'bit_count', 'bit_length', 'conjugate', 'denominator', 'from_bytes', 'imag', 'is_integer', 'numerator', 'real', 'to_bytes']\n",
      "print(id()) = 140706883807640\n",
      "   1: Hello\n",
      "print = 1\n",
      "print(dir()) = ['__abs__', '__add__', '__and__', '__bool__', '__ceil__', '__class__', '__delattr__', '__dir__', '__divmod__', '__doc__', '__eq__', '__float__', '__floor__', '__floordiv__', '__format__', '__ge__', '__getattribute__', '__getnewargs__', '__getstate__', '__gt__', '__hash__', '__index__', '__init__', '__init_subclass__', '__int__', '__invert__', '__le__', '__lshift__', '__lt__', '__mod__', '__mul__', '__ne__', '__neg__', '__new__', '__or__', '__pos__', '__pow__', '__radd__', '__rand__', '__rdivmod__', '__reduce__', '__reduce_ex__', '__repr__', '__rfloordiv__', '__rlshift__', '__rmod__', '__rmul__', '__ror__', '__round__', '__rpow__', '__rrshift__', '__rshift__', '__rsub__', '__rtruediv__', '__rxor__', '__setattr__', '__sizeof__', '__str__', '__sub__', '__subclasshook__', '__truediv__', '__trunc__', '__xor__', 'as_integer_ratio', 'bit_count', 'bit_length', 'conjugate', 'denominator', 'from_bytes', 'imag', 'is_integer', 'numerator', 'real', 'to_bytes']\n",
      "print(id()) = 140706883807672\n",
      "   2: I count my calls\n",
      "print = <function function_with_counter.<locals>.some_function at 0x00000213D46D2020>\n",
      "print(dir()) = ['__annotations__', '__builtins__', '__call__', '__class__', '__closure__', '__code__', '__defaults__', '__delattr__', '__dict__', '__dir__', '__doc__', '__eq__', '__format__', '__ge__', '__get__', '__getattribute__', '__getstate__', '__globals__', '__gt__', '__hash__', '__init__', '__init_subclass__', '__kwdefaults__', '__le__', '__lt__', '__module__', '__name__', '__ne__', '__new__', '__qualname__', '__reduce__', '__reduce_ex__', '__repr__', '__setattr__', '__sizeof__', '__str__', '__subclasshook__', '__type_params__']\n",
      "print(id()) = 2284191555616\n"
     ]
    }
   ],
   "source": [
    "print_with_counter = function_with_counter() \n",
    "print_with_counter('Hello') \n",
    "print_with_counter('I count my calls') \n",
    "print_inspect(print_with_counter)"
   ]
  },
  {
   "cell_type": "markdown",
   "metadata": {},
   "source": [
    "# Decorators\n",
    "Function Decorators"
   ]
  },
  {
   "cell_type": "code",
   "execution_count": 94,
   "metadata": {},
   "outputs": [],
   "source": [
    "def milk(func): \n",
    "    def wrapper(): \n",
    "        print(\"hot milk\") \n",
    "        func() \n",
    "    return wrapper \n",
    "    \n",
    "def sugar(func): \n",
    "    def wrapper():\n",
    "        print(\"sugar\") \n",
    "        func() \n",
    "    return wrapper \n",
    "\n",
    "def cafe(variety=\"arabica\"): \n",
    "    print(variety) "
   ]
  },
  {
   "cell_type": "code",
   "execution_count": 95,
   "metadata": {},
   "outputs": [
    {
     "name": "stdout",
     "output_type": "stream",
     "text": [
      "robusta\n",
      "print = <function cafe at 0x00000213D476D120>\n",
      "print(dir()) = ['__annotations__', '__builtins__', '__call__', '__class__', '__closure__', '__code__', '__defaults__', '__delattr__', '__dict__', '__dir__', '__doc__', '__eq__', '__format__', '__ge__', '__get__', '__getattribute__', '__getstate__', '__globals__', '__gt__', '__hash__', '__init__', '__init_subclass__', '__kwdefaults__', '__le__', '__lt__', '__module__', '__name__', '__ne__', '__new__', '__qualname__', '__reduce__', '__reduce_ex__', '__repr__', '__setattr__', '__sizeof__', '__str__', '__subclasshook__', '__type_params__']\n",
      "print(id()) = 2284192190752\n"
     ]
    }
   ],
   "source": [
    "cafe('robusta') \n",
    "print_inspect(cafe)"
   ]
  },
  {
   "cell_type": "code",
   "execution_count": 96,
   "metadata": {},
   "outputs": [
    {
     "name": "stdout",
     "output_type": "stream",
     "text": [
      "sugar\n",
      "arabica\n",
      "print = <function sugar.<locals>.wrapper at 0x00000213D476E2A0>\n",
      "print(dir()) = ['__annotations__', '__builtins__', '__call__', '__class__', '__closure__', '__code__', '__defaults__', '__delattr__', '__dict__', '__dir__', '__doc__', '__eq__', '__format__', '__ge__', '__get__', '__getattribute__', '__getstate__', '__globals__', '__gt__', '__hash__', '__init__', '__init_subclass__', '__kwdefaults__', '__le__', '__lt__', '__module__', '__name__', '__ne__', '__new__', '__qualname__', '__reduce__', '__reduce_ex__', '__repr__', '__setattr__', '__sizeof__', '__str__', '__subclasshook__', '__type_params__']\n",
      "print(id()) = 2284192195232\n"
     ]
    }
   ],
   "source": [
    "coffee = sugar(cafe)\n",
    "coffee()\n",
    "print_inspect(coffee)"
   ]
  },
  {
   "cell_type": "code",
   "execution_count": 97,
   "metadata": {},
   "outputs": [
    {
     "name": "stdout",
     "output_type": "stream",
     "text": [
      "hot milk\n",
      "sugar\n",
      "arabica\n",
      "print = <function milk.<locals>.wrapper at 0x00000213D46D2160>\n",
      "print(dir()) = ['__annotations__', '__builtins__', '__call__', '__class__', '__closure__', '__code__', '__defaults__', '__delattr__', '__dict__', '__dir__', '__doc__', '__eq__', '__format__', '__ge__', '__get__', '__getattribute__', '__getstate__', '__globals__', '__gt__', '__hash__', '__init__', '__init_subclass__', '__kwdefaults__', '__le__', '__lt__', '__module__', '__name__', '__ne__', '__new__', '__qualname__', '__reduce__', '__reduce_ex__', '__repr__', '__setattr__', '__sizeof__', '__str__', '__subclasshook__', '__type_params__']\n",
      "print(id()) = 2284191555936\n"
     ]
    }
   ],
   "source": [
    "coffee = milk(sugar(cafe))\n",
    "coffee()\n",
    "print_inspect(coffee)"
   ]
  },
  {
   "cell_type": "markdown",
   "metadata": {},
   "source": [
    "## With Decorator Syntax"
   ]
  },
  {
   "cell_type": "code",
   "execution_count": 99,
   "metadata": {},
   "outputs": [],
   "source": [
    "def milk_decor(func):\n",
    "    def wrapper():\n",
    "        print(\"hot milk _decor\")\n",
    "        func()\n",
    "    return wrapper\n",
    "\n",
    "def sugar_decor(func):\n",
    "    def wrapper():\n",
    "        print(\"sugar _decor\")\n",
    "        func()\n",
    "    return wrapper\n",
    "\n",
    "@milk\n",
    "@sugar\n",
    "def cafe_decor(variety=\"arabica\"):\n",
    "    print(variety)"
   ]
  },
  {
   "cell_type": "code",
   "execution_count": 100,
   "metadata": {},
   "outputs": [
    {
     "name": "stdout",
     "output_type": "stream",
     "text": [
      "hot milk\n",
      "sugar\n",
      "arabica\n",
      "print = <function milk.<locals>.wrapper at 0x00000213D4878B80>\n",
      "print(dir()) = ['__annotations__', '__builtins__', '__call__', '__class__', '__closure__', '__code__', '__defaults__', '__delattr__', '__dict__', '__dir__', '__doc__', '__eq__', '__format__', '__ge__', '__get__', '__getattribute__', '__getstate__', '__globals__', '__gt__', '__hash__', '__init__', '__init_subclass__', '__kwdefaults__', '__le__', '__lt__', '__module__', '__name__', '__ne__', '__new__', '__qualname__', '__reduce__', '__reduce_ex__', '__repr__', '__setattr__', '__sizeof__', '__str__', '__subclasshook__', '__type_params__']\n",
      "print(id()) = 2284193287040\n"
     ]
    }
   ],
   "source": [
    "cafe_decor()\n",
    "print_inspect(cafe_decor)"
   ]
  },
  {
   "cell_type": "markdown",
   "metadata": {},
   "source": [
    "## WHat if I want to send arguments\n",
    "Just add the original funciton args to the wrapper args\n"
   ]
  },
  {
   "cell_type": "code",
   "execution_count": 106,
   "metadata": {},
   "outputs": [],
   "source": [
    "def milk_args(func):\n",
    "    def wrapper_args(variety):\n",
    "        print(\"hot milk args\")\n",
    "        func(variety)\n",
    "    return wrapper_args\n",
    "\n",
    "def sugar_args(func):\n",
    "    def wrapper_args(variety):\n",
    "        print(\"sugar args\")\n",
    "        func(variety)\n",
    "    return wrapper_args\n"
   ]
  },
  {
   "cell_type": "code",
   "execution_count": 107,
   "metadata": {},
   "outputs": [
    {
     "name": "stdout",
     "output_type": "stream",
     "text": [
      "robusta\n",
      "sugar args\n",
      "hot milk args\n",
      "torrado\n"
     ]
    }
   ],
   "source": [
    "cafe('robusta') \n",
    "\n",
    "coffee_args = sugar_args(milk_args(cafe))\n",
    "coffee_args('torrado')"
   ]
  },
  {
   "cell_type": "code",
   "execution_count": 111,
   "metadata": {},
   "outputs": [],
   "source": [
    "def milk_decor_args(func):\n",
    "    def wrapper_args(variety):\n",
    "        print(\"hot milk _decor args\")\n",
    "        func(variety)\n",
    "    return wrapper_args\n",
    "\n",
    "def sugar_decor(func):\n",
    "    def wrapper_args(variety):\n",
    "        print(\"sugar _decor args\")\n",
    "        func(variety)\n",
    "    return wrapper_args\n",
    "\n",
    "@milk_decor_args\n",
    "@sugar_decor\n",
    "@sugar_decor\n",
    "def cafe_decor_args(variety=\"arabica\"):\n",
    "    print(variety)"
   ]
  },
  {
   "cell_type": "code",
   "execution_count": 113,
   "metadata": {},
   "outputs": [
    {
     "name": "stdout",
     "output_type": "stream",
     "text": [
      "hot milk _decor args\n",
      "sugar _decor args\n",
      "sugar _decor args\n",
      "Nescafe Soluble\n"
     ]
    }
   ],
   "source": [
    "cafe_decor_args('Nescafe Soluble')"
   ]
  },
  {
   "cell_type": "markdown",
   "metadata": {},
   "source": [
    "## Passing argments to the decorator "
   ]
  },
  {
   "cell_type": "code",
   "execution_count": 2,
   "metadata": {},
   "outputs": [],
   "source": [
    "def decorator_maker(decorator_arg1, decorator_arg2):\n",
    "    print('I create decorators. I got the following arguments:', decorator_arg1, decorator_arg2)\n",
    "    \n",
    "    def decorator_function(func):\n",
    "        print('I am a decorator. I got a function:', func)\n",
    "                \n",
    "        def wrapper(function_arg1):\n",
    "            print('I am a wrapper around the origin function.\\nAnd I have access to all arguments: \\n'\n",
    "                f'\\t- and decorator: {decorator_arg1} {decorator_arg2}\\n'\n",
    "                f'\\t- and functions: {function_arg1} \\n'\n",
    "            )\n",
    "            return func(function_arg1)\n",
    "        \n",
    "        return wrapper\n",
    "    \n",
    "    return decorator_function\n",
    " "
   ]
  },
  {
   "cell_type": "code",
   "execution_count": 3,
   "metadata": {},
   "outputs": [],
   "source": [
    "def origin_function(function_arg1):\n",
    "     print(f'I am an origin function and I only know about my arguments: {function_arg1}')"
   ]
  },
  {
   "cell_type": "code",
   "execution_count": 4,
   "metadata": {},
   "outputs": [
    {
     "name": "stdout",
     "output_type": "stream",
     "text": [
      "I am an origin function and I only know about my arguments: Tom\n"
     ]
    }
   ],
   "source": [
    "origin_function('Tom')"
   ]
  },
  {
   "cell_type": "code",
   "execution_count": 7,
   "metadata": {},
   "outputs": [
    {
     "name": "stdout",
     "output_type": "stream",
     "text": [
      "I create decorators. I got the following arguments: Rick Morty\n",
      "I am a decorator. I got a function: <function origin_function at 0x000002CF4CF44040>\n",
      "I am a wrapper around the origin function.\n",
      "And I have access to all arguments: \n",
      "\t- and decorator: Rick Morty\n",
      "\t- and functions: wacko \n",
      "\n",
      "I am an origin function and I only know about my arguments: wacko\n"
     ]
    }
   ],
   "source": [
    "decorator_maker_var = decorator_maker('Rick', 'Morty')\n",
    "function_var = decorator_maker_var(origin_function)\n",
    "function_var('wacko')"
   ]
  },
  {
   "cell_type": "code",
   "execution_count": 8,
   "metadata": {},
   "outputs": [
    {
     "name": "stdout",
     "output_type": "stream",
     "text": [
      "I create decorators. I got the following arguments: Rick-decor Morty-decor\n",
      "I am a decorator. I got a function: <function origin_function_decors at 0x000002CF4CF44B80>\n"
     ]
    }
   ],
   "source": [
    "@decorator_maker('Rick-decor', 'Morty-decor')\n",
    "def origin_function_decors(function_arg1):\n",
    "     print(f'I am an origin function and I only know about my arguments: {function_arg1}')"
   ]
  },
  {
   "cell_type": "code",
   "execution_count": 9,
   "metadata": {},
   "outputs": [
    {
     "name": "stdout",
     "output_type": "stream",
     "text": [
      "I am a wrapper around the origin function.\n",
      "And I have access to all arguments: \n",
      "\t- and decorator: Rick-decor Morty-decor\n",
      "\t- and functions: wacko-decor \n",
      "\n",
      "I am an origin function and I only know about my arguments: wacko-decor\n"
     ]
    }
   ],
   "source": [
    "origin_function_decors('wacko-decor')"
   ]
  }
 ],
 "metadata": {
  "kernelspec": {
   "display_name": "Python 3",
   "language": "python",
   "name": "python3"
  },
  "language_info": {
   "codemirror_mode": {
    "name": "ipython",
    "version": 3
   },
   "file_extension": ".py",
   "mimetype": "text/x-python",
   "name": "python",
   "nbconvert_exporter": "python",
   "pygments_lexer": "ipython3",
   "version": "3.12.3"
  }
 },
 "nbformat": 4,
 "nbformat_minor": 2
}
