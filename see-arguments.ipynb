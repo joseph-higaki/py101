{
 "cells": [
  {
   "cell_type": "markdown",
   "metadata": {},
   "source": [
    "# Positional and Keywords Arguments\n",
    "If you don't know how many positional or keyword arguments should be provided, a function developer can pack input arguments:\n",
    "\n",
    "Positional—to a tuple with one asterisk symbol.\n",
    "Keywords—to a dictionary with two asterisk symbols\n",
    "Usually packed positional argument names args, keywords – kwargs."
   ]
  },
  {
   "cell_type": "code",
   "execution_count": 13,
   "metadata": {},
   "outputs": [
    {
     "name": "stdout",
     "output_type": "stream",
     "text": [
      "args: (1, 'name', 3); kwargs: {'arg1': [1, 2, 3], 'arg2': 'value'}\n",
      "args: (1, 'name', [3]); kwargs: {'args': (3, 4), 'SOMETHING': [1, 2, 3], 'arg2': 'value'}\n",
      "args: (1, 'name', 3, [1, 2, 3], 'value'); kwargs: {}\n",
      "args: (1, 'name', {'dictkey1': [1, 2, 3], 'dictkey2': 'value'}); kwargs: {}\n"
     ]
    }
   ],
   "source": [
    "def show_arguments1(*args, **kwargs):\n",
    "    print(f\"args: {args}; kwargs: {kwargs}\")  \n",
    "\n",
    "show_arguments1(1, 'name', 3, arg1=[1, 2, 3], arg2='value')\n",
    "show_arguments1(1, 'name', [3], args=(3,4), SOMETHING=[1, 2, 3], arg2='value')\n",
    "show_arguments1(1, 'name', 3,[1, 2, 3], 'value')\n",
    "show_arguments1(1, 'name', {'dictkey1': [1, 2, 3], 'dictkey2': 'value'})"
   ]
  },
  {
   "cell_type": "markdown",
   "metadata": {},
   "source": [
    "Dictionary parameters are only the named ones"
   ]
  },
  {
   "cell_type": "markdown",
   "metadata": {},
   "source": [
    "# Packing / Unpacking args   "
   ]
  },
  {
   "cell_type": "code",
   "execution_count": 19,
   "metadata": {},
   "outputs": [
    {
     "name": "stdout",
     "output_type": "stream",
     "text": [
      "a=1, b=2, c=name, d=3, e=value\n",
      "a=1, b=2, c=name, d=3, e=value\n"
     ]
    }
   ],
   "source": [
    "def show_unpacked_arguments(a, b, c, d, e):\n",
    "    print(f'a={a}, b={b}, c={c}, d={d}, e={e}')\n",
    "\n",
    "list_of_args = [1, 2, 'name']\n",
    "key_value_args = {'e': 'value', 'd': 3}\n",
    "show_unpacked_arguments (*list_of_args, **key_value_args)\n",
    "\n",
    "list_of_args = [1, 2, 'name']\n",
    "#key_value_args = {'e': 'value', 'd': 3, 'a':1}\n",
    "show_unpacked_arguments (*list_of_args, **key_value_args)           "
   ]
  },
  {
   "cell_type": "markdown",
   "metadata": {},
   "source": [
    "## another example\n",
    "\n",
    "* pos1 and pos2 can only be provided as positional arguments. You cannot call the function like foo(pos1=value1, pos2=value2).\n",
    "* kwd_only1 and kwd_only2 are keyword only arguments because are after  after * or *args"
   ]
  },
  {
   "cell_type": "code",
   "execution_count": 23,
   "metadata": {},
   "outputs": [],
   "source": [
    "def foo(pos1, pos2, /, pos_or_kwd1, pos_or_kwd2='default', \n",
    "        *args, kwd_only1, kwd_only2='default', **kwargs):\n",
    "    print(\n",
    "        f\"pos1={pos1}\",\n",
    "        f\"pos2={pos2}\",\n",
    "        f\"pos_or_kwd1={pos_or_kwd1}\",\n",
    "        f\"pos_or_kwd2={pos_or_kwd2}\",\n",
    "        f\"args={args}\",\n",
    "        f\"kwd_only1={kwd_only1}\",\n",
    "        f\"kwd_only2={kwd_only2}\",\n",
    "        f\"kwargs={kwargs}\",\n",
    "        sep=\"\\n\",\n",
    "    )\n",
    "\n"
   ]
  },
  {
   "cell_type": "code",
   "execution_count": 32,
   "metadata": {},
   "outputs": [
    {
     "ename": "TypeError",
     "evalue": "foo() missing 1 required keyword-only argument: 'kwd_only1'",
     "output_type": "error",
     "traceback": [
      "\u001b[1;31m---------------------------------------------------------------------------\u001b[0m",
      "\u001b[1;31mTypeError\u001b[0m                                 Traceback (most recent call last)",
      "Cell \u001b[1;32mIn[32], line 1\u001b[0m\n\u001b[1;32m----> 1\u001b[0m \u001b[43mfoo\u001b[49m\u001b[43m(\u001b[49m\u001b[38;5;241;43m1\u001b[39;49m\u001b[43m,\u001b[49m\u001b[43m \u001b[49m\u001b[38;5;241;43m2\u001b[39;49m\u001b[43m,\u001b[49m\u001b[43m \u001b[49m\u001b[38;5;241;43m3\u001b[39;49m\u001b[43m,\u001b[49m\u001b[43m \u001b[49m\u001b[38;5;241;43m4\u001b[39;49m\u001b[43m,\u001b[49m\u001b[43m \u001b[49m\u001b[43mkwd_only3\u001b[49m\u001b[38;5;241;43m=\u001b[39;49m\u001b[38;5;241;43m5\u001b[39;49m\u001b[43m)\u001b[49m\n",
      "\u001b[1;31mTypeError\u001b[0m: foo() missing 1 required keyword-only argument: 'kwd_only1'"
     ]
    }
   ],
   "source": [
    "foo(1, 2, 3, 4)\n"
   ]
  },
  {
   "cell_type": "code",
   "execution_count": 26,
   "metadata": {},
   "outputs": [
    {
     "name": "stdout",
     "output_type": "stream",
     "text": [
      "pos1=1\n",
      "pos2=2\n",
      "pos_or_kwd1=3\n",
      "pos_or_kwd2=default\n",
      "args=()\n",
      "kwd_only1=4\n",
      "kwd_only2=default\n",
      "kwargs={}\n"
     ]
    }
   ],
   "source": [
    "foo(1, 2, 3, kwd_only1=4)"
   ]
  },
  {
   "cell_type": "code",
   "execution_count": 27,
   "metadata": {},
   "outputs": [
    {
     "name": "stdout",
     "output_type": "stream",
     "text": [
      "pos1=1\n",
      "pos2=2\n",
      "pos_or_kwd1=3\n",
      "pos_or_kwd2=default\n",
      "args=()\n",
      "kwd_only1=4\n",
      "kwd_only2=default\n",
      "kwargs={'kwarg1': 5, 'kwarg2': 'it is a kwarg too'}\n"
     ]
    }
   ],
   "source": [
    "foo(1, 2, 3, kwd_only1=4, kwarg1=5, kwarg2='it is a kwarg too')"
   ]
  },
  {
   "cell_type": "code",
   "execution_count": 28,
   "metadata": {},
   "outputs": [
    {
     "name": "stdout",
     "output_type": "stream",
     "text": [
      "pos1=1\n",
      "pos2=2\n",
      "pos_or_kwd1=3\n",
      "pos_or_kwd2=not default\n",
      "args=()\n",
      "kwd_only1=4\n",
      "kwd_only2=not default\n",
      "kwargs={'kwarg1': 5, 'kwarg2': 'it is a kwarg too'}\n"
     ]
    }
   ],
   "source": [
    "foo(1, 2, 3, 'not default', kwd_only1=4, kwd_only2='not default', \n",
    "    kwarg1=5, kwarg2='it is a kwarg too')"
   ]
  },
  {
   "cell_type": "code",
   "execution_count": 33,
   "metadata": {},
   "outputs": [
    {
     "name": "stdout",
     "output_type": "stream",
     "text": [
      "pos1=1\n",
      "pos2=2\n",
      "pos_or_kwd1=3\n",
      "pos_or_kwd2=not default\n",
      "args=(6, 'it is an arg too')\n",
      "kwd_only1=4\n",
      "kwd_only2=not default\n",
      "kwargs={'kwarg1': 5, 'kwarg2': 'it is a kwarg too'}\n"
     ]
    }
   ],
   "source": [
    "foo(1, 2, 3, 'not default', 6, 'it is an arg too', kwd_only1=4,\n",
    "kwd_only2='not default', kwarg1=5, kwarg2='it is a kwarg too')"
   ]
  },
  {
   "cell_type": "markdown",
   "metadata": {},
   "source": [
    "# Params by Reference\n",
    "Python’s mutable objects passed to a function by reference.\n",
    "\n"
   ]
  },
  {
   "cell_type": "code",
   "execution_count": 34,
   "metadata": {},
   "outputs": [],
   "source": [
    "def test(students):\n",
    "  new = {'Alan':30,'Dan':27}\n",
    "  students.update(new)\n",
    "  print(f'Inside the function: {students}')"
   ]
  },
  {
   "cell_type": "code",
   "execution_count": 36,
   "metadata": {},
   "outputs": [
    {
     "name": "stdout",
     "output_type": "stream",
     "text": [
      "Inside the function: {'Tom': 28, 'John': 25, 'Alan': 30, 'Dan': 27}\n"
     ]
    }
   ],
   "source": [
    "students = {'Tom':28, 'John':25}\n",
    "test(students)"
   ]
  },
  {
   "cell_type": "code",
   "execution_count": 37,
   "metadata": {},
   "outputs": [
    {
     "name": "stdout",
     "output_type": "stream",
     "text": [
      "Outside the function: {'Tom': 28, 'John': 25, 'Alan': 30, 'Dan': 27}\n"
     ]
    }
   ],
   "source": [
    "print(f'Outside the function: {students}')"
   ]
  },
  {
   "cell_type": "markdown",
   "metadata": {},
   "source": [
    "# Careful when using mutable Objects as arguments with Degfault Value"
   ]
  },
  {
   "cell_type": "code",
   "execution_count": 52,
   "metadata": {},
   "outputs": [],
   "source": [
    "def test(value, arg_list=[]):\n",
    "  arg_list.append(value)\n",
    "  print(f'Inside the function: {arg_list}')\n",
    "  print(f'id(arg_list)={id(arg_list)}')\n",
    "\n"
   ]
  },
  {
   "cell_type": "code",
   "execution_count": 53,
   "metadata": {},
   "outputs": [
    {
     "name": "stdout",
     "output_type": "stream",
     "text": [
      "Inside the function: [3]\n",
      "id(arg_list)=1900072694144\n"
     ]
    }
   ],
   "source": [
    "\n",
    "test(3)"
   ]
  },
  {
   "cell_type": "code",
   "execution_count": 54,
   "metadata": {},
   "outputs": [
    {
     "name": "stdout",
     "output_type": "stream",
     "text": [
      "Inside the function: [1, 2, 4]\n",
      "id(arg_list)=1900072697408\n"
     ]
    }
   ],
   "source": [
    "my_list = [1, 2]\n",
    "test(4, my_list) "
   ]
  },
  {
   "cell_type": "code",
   "execution_count": 58,
   "metadata": {},
   "outputs": [
    {
     "name": "stdout",
     "output_type": "stream",
     "text": [
      "[1, 2, 4]\n",
      "id(my_list)=1900072697408\n"
     ]
    }
   ],
   "source": [
    "print(my_list)\n",
    "print(f'id(my_list)={id(my_list)}')\n"
   ]
  },
  {
   "cell_type": "code",
   "execution_count": 59,
   "metadata": {},
   "outputs": [
    {
     "name": "stdout",
     "output_type": "stream",
     "text": [
      "Inside the function: [3, 5]\n",
      "id(arg_list)=1900072694144\n"
     ]
    }
   ],
   "source": [
    "test(5)"
   ]
  },
  {
   "cell_type": "markdown",
   "metadata": {},
   "source": [
    "The default value or the default argument kept its state acrosss calls"
   ]
  }
 ],
 "metadata": {
  "kernelspec": {
   "display_name": "base",
   "language": "python",
   "name": "python3"
  },
  "language_info": {
   "codemirror_mode": {
    "name": "ipython",
    "version": 3
   },
   "file_extension": ".py",
   "mimetype": "text/x-python",
   "name": "python",
   "nbconvert_exporter": "python",
   "pygments_lexer": "ipython3",
   "version": "3.12.3"
  }
 },
 "nbformat": 4,
 "nbformat_minor": 2
}
