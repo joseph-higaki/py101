{
 "cells": [
  {
   "cell_type": "markdown",
   "metadata": {},
   "source": [
    "# Positional and Keywords Arguments\n",
    "If you don't know how many positional or keyword arguments should be provided, a function developer can pack input arguments:\n",
    "\n",
    "Positional—to a tuple with one asterisk symbol.\n",
    "Keywords—to a dictionary with two asterisk symbols\n",
    "Usually packed positional argument names args, keywords – kwargs."
   ]
  },
  {
   "cell_type": "code",
   "execution_count": 10,
   "metadata": {},
   "outputs": [
    {
     "ename": "SyntaxError",
     "evalue": "positional argument follows keyword argument (3866468819.py, line 5)",
     "output_type": "error",
     "traceback": [
      "\u001b[1;36m  Cell \u001b[1;32mIn[10], line 5\u001b[1;36m\u001b[0m\n\u001b[1;33m    show_arguments1(1, 'name', [3], args=(3,4), SOMETHING=[1, 2, 3], arg2='value', 5)\u001b[0m\n\u001b[1;37m                                                                                    ^\u001b[0m\n\u001b[1;31mSyntaxError\u001b[0m\u001b[1;31m:\u001b[0m positional argument follows keyword argument\n"
     ]
    }
   ],
   "source": [
    "def show_arguments1(*args, **kwargs):\n",
    "    print(f\"args: {args}; kwargs: {kwargs}\")  \n",
    "\n",
    "show_arguments1(1, 'name', 3, arg1=[1, 2, 3], arg2='value')\n",
    "show_arguments1(1, 'name', [3], args=(3,4), SOMETHING=[1, 2, 3], arg2='value')"
   ]
  },
  {
   "cell_type": "code",
   "execution_count": null,
   "metadata": {},
   "outputs": [],
   "source": []
  }
 ],
 "metadata": {
  "kernelspec": {
   "display_name": "base",
   "language": "python",
   "name": "python3"
  },
  "language_info": {
   "codemirror_mode": {
    "name": "ipython",
    "version": 3
   },
   "file_extension": ".py",
   "mimetype": "text/x-python",
   "name": "python",
   "nbconvert_exporter": "python",
   "pygments_lexer": "ipython3",
   "version": "3.12.3"
  }
 },
 "nbformat": 4,
 "nbformat_minor": 2
}
